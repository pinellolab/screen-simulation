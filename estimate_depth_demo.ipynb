{
 "cells": [
  {
   "cell_type": "code",
   "execution_count": 1,
   "metadata": {},
   "outputs": [],
   "source": [
    "import os\n",
    "import itertools\n",
    "import multiprocessing as mpp\n",
    "from multiprocessing import Pool \n",
    "import numpy as np\n",
    "import pandas as pd\n",
    "from tqdm.notebook import tqdm\n",
    "from statsmodels.sandbox.stats.multicomp import multipletests\n",
    "from typing import List\n",
    "import screen_simulation as ss"
   ]
  },
  {
   "cell_type": "markdown",
   "metadata": {},
   "source": [
    "### List of conditions you want to test"
   ]
  },
  {
   "cell_type": "code",
   "execution_count": 2,
   "metadata": {},
   "outputs": [],
   "source": [
    "n_guides = 700*5\n",
    "n_targets = [700]\n",
    "n_guides_per_target = [5]\n",
    "mean_coverages = [100]\n",
    "n_total_cells = [i*n_guides for i in mean_coverages]\n",
    "n_bulk_cells = [None]\n",
    "sorting_mode = [\"topbot\", \"bins\"]\n",
    "nreps = [1]\n",
    "n_genome_per_sample = [int(10e4)]\n",
    "n_reads_per_sample = [10**6]\n",
    "effect_size_distribution = [None]\n",
    "edit_rate_distribution = [\"data\"]\n",
    "guide_coverage_distribution = [\"data\"]\n",
    "has_reporter = [True]\n",
    "measures = [\"guide\", \"target_edit\", \"reporter_edit\"]"
   ]
  },
  {
   "cell_type": "code",
   "execution_count": 4,
   "metadata": {},
   "outputs": [],
   "source": [
    "params = [n_targets, n_guides_per_target,\n",
    "          n_total_cells,\n",
    "          n_bulk_cells,\n",
    "          sorting_mode,\n",
    "          nreps,\n",
    "          n_genome_per_sample,\n",
    "          n_reads_per_sample,\n",
    "          effect_size_distribution,\n",
    "          guide_coverage_distribution,\n",
    "          edit_rate_distribution,\n",
    "          has_reporter\n",
    "          ]\n",
    "zipped_params = list(itertools.product(*params))"
   ]
  },
  {
   "cell_type": "markdown",
   "metadata": {},
   "source": [
    "### Run simulation and write read counts & mageck results"
   ]
  },
  {
   "cell_type": "code",
   "execution_count": 8,
   "metadata": {},
   "outputs": [],
   "source": [
    "from screen_simulation.run_mageck import get_mageck_sensitivity"
   ]
  },
  {
   "cell_type": "code",
   "execution_count": 9,
   "metadata": {
    "scrolled": true
   },
   "outputs": [],
   "source": [
    "sens, res = get_mageck_sensitivity(*zipped_params[0], rerun = True)"
   ]
  },
  {
   "cell_type": "code",
   "execution_count": null,
   "metadata": {
    "scrolled": true
   },
   "outputs": [],
   "source": [
    "from screen_simulation import istarmap  # import to apply patch\n",
    "from multiprocessing import Pool \n",
    "\n",
    "def fn(*args):\n",
    "    try: \n",
    "        sens, res = get_mageck_sensitivity(*args, rerun = True)\n",
    "    except IOError:\n",
    "        run_mageck(*args, rerun = True)\n",
    "        sens, res = get_mageck_sensitivity(*args)\n",
    "    return((sens, res))\n",
    "\n",
    "reses = []\n",
    "with Pool(20) as pool:\n",
    "    for _ in tqdm.tqdm(pool.istarmap(fn, zipped_params)):\n",
    "        reses.append(_)\n"
   ]
  },
  {
   "cell_type": "code",
   "execution_count": null,
   "metadata": {},
   "outputs": [],
   "source": [
    "ix_df = pd.DataFrame(data = zipped_params, \n",
    "                     columns = [\"n_targets\", \"n_guides_per_target\",\n",
    "          \"n_total_cells\",\n",
    "          \"n_bulk_cells\",\n",
    "          \"sorting_mode\",\n",
    "          \"nreps\",\n",
    "          \"n_genome_per_sample\",\n",
    "          \"n_reads_per_sample\",\n",
    "          \"effect_size_distribution\",\n",
    "          \"guide_coverage_distribution\",\n",
    "          \"edit_rate_distribution\",\n",
    "          \"has_reporter\"])\n",
    "ix_df = pd.DataFrame(np.repeat(ix_df.values, 11, axis = 0), \n",
    "                    columns = ix_df.columns)"
   ]
  },
  {
   "cell_type": "code",
   "execution_count": null,
   "metadata": {},
   "outputs": [],
   "source": [
    "sensitivities, mageck_results = list(zip(*reses))"
   ]
  },
  {
   "cell_type": "code",
   "execution_count": null,
   "metadata": {},
   "outputs": [],
   "source": [
    "sens_df = pd.concat(sensitivities).reset_index()\n",
    "sens_df = pd.concat((sens_df, ix_df), axis = 1)"
   ]
  },
  {
   "cell_type": "code",
   "execution_count": null,
   "metadata": {
    "scrolled": true
   },
   "outputs": [],
   "source": [
    "sens_df"
   ]
  },
  {
   "cell_type": "code",
   "execution_count": null,
   "metadata": {},
   "outputs": [],
   "source": [
    "sens_df[\"ncells(K)\"] = (sens_df[\"n_total_cells\"] / 1000).astype(int)\n",
    "sens_df[\"nreads(K)\"] = (sens_df[\"n_reads_per_sample\"] / 1000).astype(int)"
   ]
  },
  {
   "cell_type": "markdown",
   "metadata": {},
   "source": [
    "### Plott"
   ]
  },
  {
   "cell_type": "code",
   "execution_count": null,
   "metadata": {},
   "outputs": [],
   "source": [
    "import matplotlib\n",
    "import matplotlib.pyplot as plt"
   ]
  },
  {
   "cell_type": "code",
   "execution_count": null,
   "metadata": {},
   "outputs": [],
   "source": [
    "font = {'family' : 'normal',\n",
    "        'weight' : 'bold',\n",
    "        'size'   : 10}\n",
    "\n",
    "matplotlib.rc('font', **font)"
   ]
  }
 ],
 "metadata": {
  "kernelspec": {
   "display_name": "Python [conda env:jy_screensim]",
   "language": "python",
   "name": "conda-env-jy_screensim-py"
  },
  "language_info": {
   "codemirror_mode": {
    "name": "ipython",
    "version": 3
   },
   "file_extension": ".py",
   "mimetype": "text/x-python",
   "name": "python",
   "nbconvert_exporter": "python",
   "pygments_lexer": "ipython3",
   "version": "3.7.11"
  }
 },
 "nbformat": 4,
 "nbformat_minor": 4
}
